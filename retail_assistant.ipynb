{
 "cells": [
  {
   "cell_type": "markdown",
   "id": "dd1ea3df",
   "metadata": {},
   "source": [
    "# Import Headers"
   ]
  },
  {
   "cell_type": "code",
   "execution_count": 19,
   "id": "a88caba4",
   "metadata": {},
   "outputs": [
    {
     "data": {
      "text/plain": [
       "True"
      ]
     },
     "execution_count": 19,
     "metadata": {},
     "output_type": "execute_result"
    }
   ],
   "source": [
    "from langchain_openai import ChatOpenAI\n",
    "from dotenv import load_dotenv\n",
    "import os\n",
    "\n",
    "load_dotenv()"
   ]
  },
  {
   "cell_type": "markdown",
   "id": "f173ea36",
   "metadata": {},
   "source": [
    "# Setup LLM"
   ]
  },
  {
   "cell_type": "code",
   "execution_count": null,
   "id": "4658f018",
   "metadata": {},
   "outputs": [
    {
     "name": "stdout",
     "output_type": "stream",
     "text": [
      "SELECT customer_id, SUM(sales_amount) as total_sales\n",
      "FROM sales\n",
      "GROUP BY customer_id\n",
      "ORDER BY total_sales DESC\n",
      "LIMIT 5;\n"
     ]
    }
   ],
   "source": [
    "api_key = os.getenv(\"OPENAI_API_KEY\")\n",
    "llm = ChatOpenAI(model_name=\"gpt-3.5-turbo\", temperature=0)\n",
    "\n",
    "response = llm.invoke(\"Write a SQL query to get top 5 customers by sales. keep it short\")\n",
    "print(response.content)"
   ]
  },
  {
   "cell_type": "markdown",
   "id": "56881645",
   "metadata": {},
   "source": [
    "# Connect With Database"
   ]
  },
  {
   "cell_type": "code",
   "execution_count": 16,
   "id": "1330c523",
   "metadata": {},
   "outputs": [],
   "source": [
    "from langchain.utilities import SQLDatabase\n",
    "\n",
    "db_user = \"root\"\n",
    "db_password = \"root\"\n",
    "db_host = \"localhost\"\n",
    "db_name = \"tshirts\"\n",
    "\n",
    "db = SQLDatabase.from_uri(f\"mysql+pymysql://{db_user}:{db_password}@{db_host}/{db_name}\",sample_rows_in_table_info=3)\n",
    "\n",
    "# print(db.table_info)"
   ]
  },
  {
   "cell_type": "markdown",
   "id": "d2449bcc",
   "metadata": {},
   "source": [
    "______________"
   ]
  },
  {
   "cell_type": "markdown",
   "id": "664c1811",
   "metadata": {},
   "source": [
    "# Ask questions with Zero shot learning"
   ]
  },
  {
   "cell_type": "code",
   "execution_count": 17,
   "id": "75d6a8fd",
   "metadata": {},
   "outputs": [],
   "source": [
    "from langchain.agents import create_sql_agent\n",
    "\n",
    "sql_agent = create_sql_agent(llm, db=db, agent_type=\"zero-shot-react-description\") # set verbose=True to check how it thinks"
   ]
  },
  {
   "cell_type": "markdown",
   "id": "028ce0ed",
   "metadata": {},
   "source": [
    "## Question 1"
   ]
  },
  {
   "cell_type": "code",
   "execution_count": null,
   "id": "bcf296f9",
   "metadata": {},
   "outputs": [
    {
     "name": "stdout",
     "output_type": "stream",
     "text": [
      "{'input': 'How many t-shirts do we have left for Nike in extra small size and white color?', 'output': '0'}\n"
     ]
    }
   ],
   "source": [
    "q1 = sql_agent.invoke(\"How many t-shirts do we have left for Nike in extra small size and white color?\")\n",
    "print(q1)"
   ]
  },
  {
   "cell_type": "markdown",
   "id": "6fb49b01",
   "metadata": {},
   "source": [
    "- ##### `0` is incorrect. The correct answer is `25`."
   ]
  },
  {
   "cell_type": "markdown",
   "id": "7b2b6dcd",
   "metadata": {},
   "source": [
    "## Question 2"
   ]
  },
  {
   "cell_type": "code",
   "execution_count": null,
   "id": "3b066f29",
   "metadata": {},
   "outputs": [
    {
     "name": "stdout",
     "output_type": "stream",
     "text": [
      "{'input': 'How much is the price of the inventory for all small size t-shirts?', 'output': 'The price of the inventory for all small size t-shirts is $13,429.'}\n"
     ]
    }
   ],
   "source": [
    "q2 = sql_agent.invoke(\"How much is the price of the inventory for all small size t-shirts?\")\n",
    "print(q2)"
   ]
  },
  {
   "cell_type": "markdown",
   "id": "4335e4dc",
   "metadata": {},
   "source": [
    "- ##### `0` is incorrect. The correct answer is `25`."
   ]
  },
  {
   "cell_type": "markdown",
   "id": "47095e27",
   "metadata": {},
   "source": [
    "# Question 3"
   ]
  },
  {
   "cell_type": "code",
   "execution_count": null,
   "id": "675b523a",
   "metadata": {},
   "outputs": [],
   "source": [
    "q3 = sql_agent.invoke(\"If we have to sell all the Levi’s T-shirts today with discounts applied. How much revenue our store will generate (post discounts)?\")\n",
    "print(f\"Input:\\n{q3['input']}\\nOutput:\\n{q3['output']}\")"
   ]
  },
  {
   "cell_type": "markdown",
   "id": "91ac4504",
   "metadata": {},
   "source": [
    "- ##### `0` is incorrect. The correct answer is `25`."
   ]
  },
  {
   "cell_type": "markdown",
   "id": "7868836d",
   "metadata": {},
   "source": [
    "# Question 4"
   ]
  },
  {
   "cell_type": "code",
   "execution_count": null,
   "id": "31c5fa36",
   "metadata": {},
   "outputs": [],
   "source": [
    "q4 = sql_agent.invoke(\"If we have to sell all the Levi’s T-shirts today with discounts applied. How much revenue our store will generate (post discounts)?\")\n",
    "print(q4)"
   ]
  },
  {
   "cell_type": "markdown",
   "id": "e66db1c5",
   "metadata": {},
   "source": [
    "# Question 5"
   ]
  },
  {
   "cell_type": "code",
   "execution_count": null,
   "id": "9f3ba26b",
   "metadata": {},
   "outputs": [],
   "source": [
    "q5 = sql_agent.invoke(\"How many white color Levi's t shirts we have available?\")\n",
    "print(q5)"
   ]
  },
  {
   "cell_type": "markdown",
   "id": "34039433",
   "metadata": {},
   "source": [
    "_____________________"
   ]
  },
  {
   "cell_type": "code",
   "execution_count": null,
   "id": "de787f48",
   "metadata": {},
   "outputs": [],
   "source": []
  },
  {
   "cell_type": "markdown",
   "id": "4dcdff6f",
   "metadata": {},
   "source": [
    "__________________"
   ]
  },
  {
   "cell_type": "code",
   "execution_count": null,
   "id": "ad117478",
   "metadata": {},
   "outputs": [],
   "source": []
  }
 ],
 "metadata": {
  "kernelspec": {
   "display_name": ".venv",
   "language": "python",
   "name": "python3"
  },
  "language_info": {
   "codemirror_mode": {
    "name": "ipython",
    "version": 3
   },
   "file_extension": ".py",
   "mimetype": "text/x-python",
   "name": "python",
   "nbconvert_exporter": "python",
   "pygments_lexer": "ipython3",
   "version": "3.10.0"
  }
 },
 "nbformat": 4,
 "nbformat_minor": 5
}
