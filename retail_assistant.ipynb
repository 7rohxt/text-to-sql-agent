{
 "cells": [
  {
   "cell_type": "markdown",
   "id": "dd1ea3df",
   "metadata": {},
   "source": [
    "# Import Headers"
   ]
  },
  {
   "cell_type": "code",
   "execution_count": 1,
   "id": "a88caba4",
   "metadata": {},
   "outputs": [
    {
     "data": {
      "text/plain": [
       "True"
      ]
     },
     "execution_count": 1,
     "metadata": {},
     "output_type": "execute_result"
    }
   ],
   "source": [
    "from langchain_openai import ChatOpenAI\n",
    "from dotenv import load_dotenv\n",
    "import os\n",
    "\n",
    "load_dotenv()"
   ]
  },
  {
   "cell_type": "markdown",
   "id": "f173ea36",
   "metadata": {},
   "source": [
    "# Setup LLM"
   ]
  },
  {
   "cell_type": "code",
   "execution_count": 2,
   "id": "4658f018",
   "metadata": {},
   "outputs": [
    {
     "name": "stdout",
     "output_type": "stream",
     "text": [
      "SELECT customer_id, SUM(sales_amount) as total_sales\n",
      "FROM sales\n",
      "GROUP BY customer_id\n",
      "ORDER BY total_sales DESC\n",
      "LIMIT 5;\n"
     ]
    }
   ],
   "source": [
    "api_key = os.getenv(\"OPENAI_API_KEY\")\n",
    "llm = ChatOpenAI(model_name=\"gpt-3.5-turbo\", temperature=0)\n",
    "\n",
    "response = llm.invoke(\"Write a SQL query to get top 5 customers by sales. keep it short\")\n",
    "print(response.content)"
   ]
  },
  {
   "cell_type": "markdown",
   "id": "56881645",
   "metadata": {},
   "source": [
    "# Connect With Database"
   ]
  },
  {
   "cell_type": "code",
   "execution_count": 3,
   "id": "1330c523",
   "metadata": {},
   "outputs": [],
   "source": [
    "from langchain.utilities import SQLDatabase\n",
    "\n",
    "db_user = \"root\"\n",
    "db_password = \"root\"\n",
    "db_host = \"localhost\"\n",
    "db_name = \"tshirts\"\n",
    "\n",
    "db = SQLDatabase.from_uri(f\"mysql+pymysql://{db_user}:{db_password}@{db_host}/{db_name}\",sample_rows_in_table_info=3)\n",
    "\n",
    "# print(db.table_info)"
   ]
  },
  {
   "cell_type": "markdown",
   "id": "d2449bcc",
   "metadata": {},
   "source": [
    "______________"
   ]
  },
  {
   "cell_type": "markdown",
   "id": "664c1811",
   "metadata": {},
   "source": [
    "# Ask questions with Zero shot learning"
   ]
  },
  {
   "cell_type": "code",
   "execution_count": 4,
   "id": "75d6a8fd",
   "metadata": {},
   "outputs": [],
   "source": [
    "from langchain.agents import create_sql_agent\n",
    "\n",
    "sql_agent = create_sql_agent(llm, db=db, agent_type=\"zero-shot-react-description\") # set verbose=True to check how it thinks"
   ]
  },
  {
   "cell_type": "markdown",
   "id": "028ce0ed",
   "metadata": {},
   "source": [
    "## Question 1"
   ]
  },
  {
   "cell_type": "code",
   "execution_count": 5,
   "id": "bcf296f9",
   "metadata": {},
   "outputs": [
    {
     "name": "stdout",
     "output_type": "stream",
     "text": [
      "{'input': 'How many t-shirts do we have left for Nike in extra small size and white color?', 'output': '1'}\n"
     ]
    }
   ],
   "source": [
    "q1 = sql_agent.invoke(\"How many t-shirts do we have left for Nike in extra small size and white color?\")\n",
    "print(q1)"
   ]
  },
  {
   "cell_type": "markdown",
   "id": "6fb49b01",
   "metadata": {},
   "source": [
    "- ##### `1` is incorrect. The correct answer is `25`."
   ]
  },
  {
   "cell_type": "markdown",
   "id": "7b2b6dcd",
   "metadata": {},
   "source": [
    "## Question 2"
   ]
  },
  {
   "cell_type": "code",
   "execution_count": 6,
   "id": "3b066f29",
   "metadata": {},
   "outputs": [
    {
     "name": "stdout",
     "output_type": "stream",
     "text": [
      "{'input': 'How much is the price of the inventory for all small size t-shirts?', 'output': 'The prices of the inventory for all small size t-shirts are 17, 44, 37, 27, 25, 50, 48, 18, and 39.'}\n"
     ]
    }
   ],
   "source": [
    "q2 = sql_agent.invoke(\"How much is the price of the inventory for all small size t-shirts?\")\n",
    "print(q2)"
   ]
  },
  {
   "cell_type": "markdown",
   "id": "4335e4dc",
   "metadata": {},
   "source": [
    "- ##### It has returned prices of small sized randomn coloured tshirts. The correct answer is `$13,429`."
   ]
  },
  {
   "cell_type": "markdown",
   "id": "47095e27",
   "metadata": {},
   "source": [
    "# Question 3"
   ]
  },
  {
   "cell_type": "code",
   "execution_count": 7,
   "id": "675b523a",
   "metadata": {},
   "outputs": [
    {
     "name": "stdout",
     "output_type": "stream",
     "text": [
      "Input:\n",
      "If we have to sell all the Levi’s T-shirts today with discounts applied. How much revenue our store will generate (post discounts)?\n",
      "Output:\n",
      "$1212.60\n"
     ]
    }
   ],
   "source": [
    "q3 = sql_agent.invoke(\"If we have to sell all the Levi’s T-shirts today with discounts applied. How much revenue our store will generate (post discounts)?\")\n",
    "print(f\"Input:\\n{q3['input']}\\nOutput:\\n{q3['output']}\")"
   ]
  },
  {
   "cell_type": "markdown",
   "id": "91ac4504",
   "metadata": {},
   "source": [
    "- ##### `$1,212.60` is incorrect. The correct answer is `$12,147$`."
   ]
  },
  {
   "cell_type": "markdown",
   "id": "7868836d",
   "metadata": {},
   "source": [
    "# Question 4"
   ]
  },
  {
   "cell_type": "code",
   "execution_count": 8,
   "id": "31c5fa36",
   "metadata": {},
   "outputs": [
    {
     "name": "stdout",
     "output_type": "stream",
     "text": [
      "{'input': 'If we have to sell all the Levi’s T-shirts today with discounts applied. How much revenue our store will generate (post discounts)?', 'output': 'The store will generate a revenue of $5578 post discounts if all the Levi’s T-shirts are sold today.'}\n"
     ]
    }
   ],
   "source": [
    "q4 = sql_agent.invoke(\"If we have to sell all the Levi’s T-shirts today with discounts applied. How much revenue our store will generate (post discounts)?\")\n",
    "print(q4)"
   ]
  },
  {
   "cell_type": "markdown",
   "id": "997c28b0",
   "metadata": {},
   "source": [
    "- ##### `$5,578` is incorrect. The correct answer is `$12,946`."
   ]
  },
  {
   "cell_type": "markdown",
   "id": "e66db1c5",
   "metadata": {},
   "source": [
    "# Question 5"
   ]
  },
  {
   "cell_type": "code",
   "execution_count": 9,
   "id": "9f3ba26b",
   "metadata": {},
   "outputs": [
    {
     "name": "stdout",
     "output_type": "stream",
     "text": [
      "{'input': \"How many white color Levi's t shirts we have available?\", 'output': '2'}\n"
     ]
    }
   ],
   "source": [
    "q5 = sql_agent.invoke(\"How many white color Levi's t shirts we have available?\")\n",
    "print(q5)"
   ]
  },
  {
   "cell_type": "markdown",
   "id": "66c4468b",
   "metadata": {},
   "source": [
    "- ##### `2` is incorrect. The correct answer is `5`."
   ]
  },
  {
   "cell_type": "markdown",
   "id": "34039433",
   "metadata": {},
   "source": [
    "_____________________"
   ]
  },
  {
   "cell_type": "markdown",
   "id": "5cfe7ab4",
   "metadata": {},
   "source": [
    "# Provide correct SQL queries and get the results"
   ]
  },
  {
   "cell_type": "code",
   "execution_count": 10,
   "id": "de787f48",
   "metadata": {},
   "outputs": [
    {
     "name": "stdout",
     "output_type": "stream",
     "text": [
      "Q1 Output: {'input': \"select * from t_shirts Where brand = 'Nike' AND color = 'White' and size = 'XS'\", 'output': \"(82, 'Nike', 'White', 'XS', 14, 25)\"}\n",
      "Q2 Output: {'input': \"SELECT SUM(price*stock_quantity) FROM t_shirts WHERE size = 'S'\", 'output': \"The total value of size 'S' t-shirts in stock is $13,429.\"}\n",
      "Q3 Output: {'input': \"\\n    select sum(a.total_amount * ((100-COALESCE(discounts.pct_discount,0))/100)) as total_revenue from\\n    (select sum(price*stock_quantity) as total_amount, t_shirt_id from t_shirts where brand = 'Levi'\\n    group by t_shirt_id) a left join discounts on a.t_shirt_id = discounts.t_shirt_id\\n     \", 'output': '$12,147.60'}\n",
      "Q4 Output: {'input': \"SELECT SUM(price * stock_quantity) FROM t_shirts WHERE brand = 'Levi'\", 'output': '$12,956'}\n",
      "Q5 Output: {'input': \"SELECT sum(stock_quantity) FROM t_shirts WHERE brand = 'Levi' AND color = 'White'\", 'output': '43'}\n"
     ]
    }
   ],
   "source": [
    "q1 = sql_agent.invoke(\"select * from t_shirts Where brand = 'Nike' AND color = 'White' and size = 'XS'\")\n",
    "q2 = sql_agent.invoke(\"SELECT SUM(price*stock_quantity) FROM t_shirts WHERE size = 'S'\")\n",
    "q3 = sql_agent.invoke(\"\"\"\n",
    "    select sum(a.total_amount * ((100-COALESCE(discounts.pct_discount,0))/100)) as total_revenue from\n",
    "    (select sum(price*stock_quantity) as total_amount, t_shirt_id from t_shirts where brand = 'Levi'\n",
    "    group by t_shirt_id) a left join discounts on a.t_shirt_id = discounts.t_shirt_id\n",
    "     \"\"\")\n",
    "q4 = sql_agent.invoke(\"SELECT SUM(price * stock_quantity) FROM t_shirts WHERE brand = 'Levi'\")\n",
    "q5 = sql_agent.invoke(\"SELECT sum(stock_quantity) FROM t_shirts WHERE brand = 'Levi' AND color = 'White'\")\n",
    "\n",
    "print(f\"Q1 Output: {q1}\")\n",
    "print(f\"Q2 Output: {q2}\")\n",
    "print(f\"Q3 Output: {q3}\")\n",
    "print(f\"Q4 Output: {q4}\")\n",
    "print(f\"Q5 Output: {q5}\")"
   ]
  },
  {
   "cell_type": "markdown",
   "id": "4dcdff6f",
   "metadata": {},
   "source": [
    "__________________"
   ]
  }
 ],
 "metadata": {
  "kernelspec": {
   "display_name": ".venv",
   "language": "python",
   "name": "python3"
  },
  "language_info": {
   "codemirror_mode": {
    "name": "ipython",
    "version": 3
   },
   "file_extension": ".py",
   "mimetype": "text/x-python",
   "name": "python",
   "nbconvert_exporter": "python",
   "pygments_lexer": "ipython3",
   "version": "3.10.0"
  }
 },
 "nbformat": 4,
 "nbformat_minor": 5
}
