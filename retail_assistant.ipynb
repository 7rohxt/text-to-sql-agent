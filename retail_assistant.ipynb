{
 "cells": [
  {
   "cell_type": "markdown",
   "id": "dd1ea3df",
   "metadata": {},
   "source": [
    "# Import Headers"
   ]
  },
  {
   "cell_type": "code",
   "execution_count": 6,
   "id": "a88caba4",
   "metadata": {},
   "outputs": [
    {
     "data": {
      "text/plain": [
       "True"
      ]
     },
     "execution_count": 6,
     "metadata": {},
     "output_type": "execute_result"
    }
   ],
   "source": [
    "from langchain_openai import ChatOpenAI\n",
    "from langchain_community.vectorstores import Chroma\n",
    "from langchain.prompts import FewShotPromptTemplate\n",
    "from langchain.prompts.prompt import PromptTemplate\n",
    "from langchain.prompts.example_selector import SemanticSimilarityExampleSelector\n",
    "from langchain_huggingface import HuggingFaceEmbeddings\n",
    "from langchain.agents import create_sql_agent, AgentType\n",
    "from dotenv import load_dotenv\n",
    "import os\n",
    "\n",
    "load_dotenv()"
   ]
  },
  {
   "cell_type": "markdown",
   "id": "f173ea36",
   "metadata": {},
   "source": [
    "# Setup LLM"
   ]
  },
  {
   "cell_type": "code",
   "execution_count": 7,
   "id": "4658f018",
   "metadata": {},
   "outputs": [
    {
     "name": "stdout",
     "output_type": "stream",
     "text": [
      "SELECT customer_id, SUM(sales_amount) as total_sales\n",
      "FROM sales\n",
      "GROUP BY customer_id\n",
      "ORDER BY total_sales DESC\n",
      "LIMIT 5;\n"
     ]
    }
   ],
   "source": [
    "api_key = os.getenv(\"OPENAI_API_KEY\")\n",
    "llm = ChatOpenAI(model_name=\"gpt-3.5-turbo\", temperature=0)\n",
    "\n",
    "response = llm.invoke(\"Write a SQL query to get top 5 customers by sales. keep it short\")\n",
    "print(response.content)"
   ]
  },
  {
   "cell_type": "markdown",
   "id": "56881645",
   "metadata": {},
   "source": [
    "# Connect With Database"
   ]
  },
  {
   "cell_type": "code",
   "execution_count": 8,
   "id": "1330c523",
   "metadata": {},
   "outputs": [
    {
     "name": "stdout",
     "output_type": "stream",
     "text": [
      "\n",
      "CREATE TABLE discounts (\n",
      "\tdiscount_id INTEGER NOT NULL AUTO_INCREMENT, \n",
      "\tt_shirt_id INTEGER NOT NULL, \n",
      "\tpct_discount DECIMAL(5, 2), \n",
      "\tPRIMARY KEY (discount_id), \n",
      "\tCONSTRAINT discounts_ibfk_1 FOREIGN KEY(t_shirt_id) REFERENCES t_shirts (t_shirt_id), \n",
      "\tCONSTRAINT discounts_chk_1 CHECK ((`pct_discount` between 0 and 100))\n",
      ")COLLATE utf8mb4_0900_ai_ci ENGINE=InnoDB DEFAULT CHARSET=utf8mb4\n",
      "\n",
      "/*\n",
      "3 rows from discounts table:\n",
      "discount_id\tt_shirt_id\tpct_discount\n",
      "1\t1\t10.00\n",
      "2\t2\t15.00\n",
      "3\t3\t20.00\n",
      "*/\n",
      "\n",
      "\n",
      "CREATE TABLE t_shirts (\n",
      "\tt_shirt_id INTEGER NOT NULL AUTO_INCREMENT, \n",
      "\tbrand ENUM('Van Huesen','Levi','Nike','Adidas') NOT NULL, \n",
      "\tcolor ENUM('Red','Blue','Black','White') NOT NULL, \n",
      "\tsize ENUM('XS','S','M','L','XL') NOT NULL, \n",
      "\tprice INTEGER, \n",
      "\tstock_quantity INTEGER NOT NULL, \n",
      "\tPRIMARY KEY (t_shirt_id), \n",
      "\tCONSTRAINT t_shirts_chk_1 CHECK ((`price` between 10 and 50))\n",
      ")COLLATE utf8mb4_0900_ai_ci ENGINE=InnoDB DEFAULT CHARSET=utf8mb4\n",
      "\n",
      "/*\n",
      "3 rows from t_shirts table:\n",
      "t_shirt_id\tbrand\tcolor\tsize\tprice\tstock_quantity\n",
      "1\tNike\tBlue\tL\t40\t51\n",
      "2\tVan Huesen\tWhite\tL\t17\t12\n",
      "3\tNike\tRed\tS\t17\t21\n",
      "*/\n"
     ]
    }
   ],
   "source": [
    "from langchain.utilities import SQLDatabase\n",
    "\n",
    "db_user = \"root\"\n",
    "db_password = \"root\"\n",
    "db_host = \"localhost\"\n",
    "db_name = \"tshirts\"\n",
    "\n",
    "db = SQLDatabase.from_uri(f\"mysql+pymysql://{db_user}:{db_password}@{db_host}/{db_name}\",sample_rows_in_table_info=3)\n",
    "\n",
    "print(db.table_info)"
   ]
  },
  {
   "cell_type": "markdown",
   "id": "d2449bcc",
   "metadata": {},
   "source": [
    "______________"
   ]
  },
  {
   "cell_type": "markdown",
   "id": "664c1811",
   "metadata": {},
   "source": [
    "# Ask questions with Zero shot learning"
   ]
  },
  {
   "cell_type": "code",
   "execution_count": null,
   "id": "75d6a8fd",
   "metadata": {},
   "outputs": [],
   "source": [
    "sql_agent = create_sql_agent(\n",
    "    llm, \n",
    "    db=db, \n",
    "    agent_type=\"zero-shot-react-description\", \n",
    "    handle_parsing_errors=True\n",
    "    ) # set verbose=True to check how it thinks"
   ]
  },
  {
   "cell_type": "markdown",
   "id": "028ce0ed",
   "metadata": {},
   "source": [
    "## Question 1"
   ]
  },
  {
   "cell_type": "code",
   "execution_count": 10,
   "id": "bcf296f9",
   "metadata": {},
   "outputs": [
    {
     "name": "stdout",
     "output_type": "stream",
     "text": [
      "{'input': 'How many t-shirts do we have left for Nike in extra small size and white color?', 'output': 'There is 0 Nike t-shirt left in extra small size and white color.'}\n"
     ]
    }
   ],
   "source": [
    "q1 = sql_agent.invoke(\"How many t-shirts do we have left for Nike in extra small size and white color?\")\n",
    "print(q1)"
   ]
  },
  {
   "cell_type": "markdown",
   "id": "6fb49b01",
   "metadata": {},
   "source": [
    "- ##### `0` is incorrect. The correct answer is `25`.  \n",
    "--"
   ]
  },
  {
   "cell_type": "markdown",
   "id": "7b2b6dcd",
   "metadata": {},
   "source": [
    "## Question 2"
   ]
  },
  {
   "cell_type": "code",
   "execution_count": 11,
   "id": "3b066f29",
   "metadata": {},
   "outputs": [
    {
     "name": "stdout",
     "output_type": "stream",
     "text": [
      "{'input': 'How much is inventory value for all small size t-shirts?', 'output': '$13,429'}\n"
     ]
    }
   ],
   "source": [
    "q2 = sql_agent.invoke(\"How much is inventory value for all small size t-shirts?\")\n",
    "print(q2)"
   ]
  },
  {
   "cell_type": "markdown",
   "id": "4335e4dc",
   "metadata": {},
   "source": [
    "- ##### LLM answered this correctly\n",
    "--"
   ]
  },
  {
   "cell_type": "markdown",
   "id": "47095e27",
   "metadata": {},
   "source": [
    "# Question 3"
   ]
  },
  {
   "cell_type": "code",
   "execution_count": 12,
   "id": "31c5fa36",
   "metadata": {},
   "outputs": [
    {
     "name": "stdout",
     "output_type": "stream",
     "text": [
      "{'input': 'What is the total value of Levi’s T-shirts we have in stock?', 'output': '$12,956'}\n"
     ]
    }
   ],
   "source": [
    "q3 = sql_agent.invoke(\"What is the total value of Levi’s T-shirts we have in stock?\")\n",
    "print(q3)"
   ]
  },
  {
   "cell_type": "markdown",
   "id": "997c28b0",
   "metadata": {},
   "source": [
    "- ##### LLM answered this correctly. \n",
    "--"
   ]
  },
  {
   "cell_type": "markdown",
   "id": "e66db1c5",
   "metadata": {},
   "source": [
    "# Question 4"
   ]
  },
  {
   "cell_type": "code",
   "execution_count": 13,
   "id": "9f3ba26b",
   "metadata": {},
   "outputs": [
    {
     "name": "stdout",
     "output_type": "stream",
     "text": [
      "{'input': \"How many white color Levi's t shirts we have available?\", 'output': '2'}\n"
     ]
    }
   ],
   "source": [
    "q4 = sql_agent.invoke(\"How many white color Levi's t shirts we have available?\")\n",
    "print(q4)"
   ]
  },
  {
   "cell_type": "markdown",
   "id": "66c4468b",
   "metadata": {},
   "source": [
    "- ##### `2` is incorrect. The correct answer is `43`."
   ]
  },
  {
   "cell_type": "markdown",
   "id": "34039433",
   "metadata": {},
   "source": [
    "_____________________"
   ]
  },
  {
   "cell_type": "markdown",
   "id": "5cfe7ab4",
   "metadata": {},
   "source": [
    "# Provide correct SQL queries and get the results"
   ]
  },
  {
   "cell_type": "code",
   "execution_count": 14,
   "id": "de787f48",
   "metadata": {},
   "outputs": [
    {
     "name": "stdout",
     "output_type": "stream",
     "text": [
      "q1 output: 25\n",
      "q2 output: The total value of size 'S' t-shirts in stock is $13,429.\n",
      "q3 output: $12,956\n",
      "q4 output: 43\n"
     ]
    }
   ],
   "source": [
    "q1 = sql_agent.invoke(\"SELECT sum(stock_quantity) FROM t_shirts WHERE brand = 'Nike' AND color = 'White' AND size = 'XS'\")\n",
    "q2 = sql_agent.invoke(\"SELECT SUM(price*stock_quantity) FROM t_shirts WHERE size = 'S'\")\n",
    "q3 = sql_agent.invoke(\"SELECT SUM(price * stock_quantity) FROM t_shirts WHERE brand = 'Levi'\")\n",
    "q4 = sql_agent.invoke(\"SELECT sum(stock_quantity) FROM t_shirts WHERE brand = 'Levi' AND color = 'White'\")\n",
    "\n",
    "print(f\"q1 output: {q1['output']}\")\n",
    "print(f\"q2 output: {q2['output']}\")\n",
    "print(f\"q3 output: {q3['output']}\")\n",
    "print(f\"q4 output: {q4['output']}\")\n"
   ]
  },
  {
   "cell_type": "markdown",
   "id": "4dcdff6f",
   "metadata": {},
   "source": [
    "__________________"
   ]
  },
  {
   "cell_type": "markdown",
   "id": "28dc81bc",
   "metadata": {},
   "source": [
    "# Few Shot Learning"
   ]
  },
  {
   "cell_type": "code",
   "execution_count": 15,
   "id": "546e623f",
   "metadata": {},
   "outputs": [],
   "source": [
    "few_shots = [\n",
    "    {\n",
    "      'Question' : \"How many t-shirts do we have left for Nike in XS size and white color?\",\n",
    "      'SQLQuery' : \"SELECT sum(stock_quantity) FROM t_shirts WHERE brand = 'Nike' AND color = 'White' AND size = 'XS'\",\n",
    "      'SQLResult': \"Result of the SQL query\",\n",
    "      'Answer' : q1\n",
    "     },\n",
    "    {\n",
    "      'Question': \"How much is the total inventory value for all small size t-shirts?\",\n",
    "      'SQLQuery':\"SELECT SUM(price*stock_quantity) FROM t_shirts WHERE size = 'S'\",\n",
    "      'SQLResult': \"Result of the SQL query\",\n",
    "      'Answer': q2\n",
    "    },\n",
    "    {\n",
    "      'Question' : \"If we have to sell all the Levi’s T-shirts today. How much revenue our store will generate without discount?\" ,\n",
    "      'SQLQuery': \"SELECT SUM(price * stock_quantity) FROM t_shirts WHERE brand = 'Levi'\",\n",
    "      'SQLResult': \"Result of the SQL query\",\n",
    "      'Answer' : q3\n",
    "    },\n",
    "    {\n",
    "      'Question': \"How many white color Levi's shirt I have?\",\n",
    "      'SQLQuery' : \"SELECT sum(stock_quantity) FROM t_shirts WHERE brand = 'Levi' AND color = 'White'\",\n",
    "      'SQLResult': \"Result of the SQL query\",\n",
    "      'Answer' : q4\n",
    "    }\n",
    "]"
   ]
  },
  {
   "cell_type": "markdown",
   "id": "39e017d1",
   "metadata": {},
   "source": [
    "# Create Vector Database"
   ]
  },
  {
   "cell_type": "code",
   "execution_count": 25,
   "id": "8bb3e302",
   "metadata": {},
   "outputs": [],
   "source": [
    "embeddings = HuggingFaceEmbeddings(model_name='sentence-transformers/all-MiniLM-L6-v2')\n",
    "\n",
    "texts = [d[\"Question\"] for d in few_shots] # extracts all the questions and store it as a list\n",
    "\n",
    "metadatas = [\n",
    "    {\n",
    "        \"Question\": d[\"Question\"], \n",
    "        \"sql\": d[\"SQLQuery\"],\n",
    "        \"sql_result\": d[\"SQLResult\"],\n",
    "        \"answer_output\": d[\"Answer\"][\"output\"]\n",
    "    }\n",
    "    for d in few_shots\n",
    "]\n",
    "\n",
    "vectorstore = Chroma.from_texts(\n",
    "    texts=texts,\n",
    "    embedding=embeddings,\n",
    "    metadatas=metadatas\n",
    ")"
   ]
  },
  {
   "cell_type": "markdown",
   "id": "2060354b",
   "metadata": {},
   "source": [
    "# Semantic Similarity Example Selector\n"
   ]
  },
  {
   "cell_type": "code",
   "execution_count": 17,
   "id": "592f71be",
   "metadata": {},
   "outputs": [
    {
     "data": {
      "text/plain": [
       "[{'sql': \"SELECT sum(stock_quantity) FROM t_shirts WHERE brand = 'Nike' AND color = 'White' AND size = 'XS'\",\n",
       "  'Question': 'How many t-shirts do we have left for Nike in XS size and white color?',\n",
       "  'answer_output': '25',\n",
       "  'sql_result': 'Result of the SQL query'},\n",
       " {'sql': \"SELECT SUM(price*stock_quantity) FROM t_shirts WHERE size = 'S'\",\n",
       "  'sql_result': 'Result of the SQL query',\n",
       "  'Question': 'How much is the total inventory value for all small size t-shirts?',\n",
       "  'answer_output': \"The total value of size 'S' t-shirts in stock is $13,429.\"}]"
      ]
     },
     "execution_count": 17,
     "metadata": {},
     "output_type": "execute_result"
    }
   ],
   "source": [
    "example_selector = SemanticSimilarityExampleSelector(\n",
    "    vectorstore=vectorstore,\n",
    "    k=2\n",
    ")\n",
    "\n",
    "# Let's pull two similar questions from vector db to the following example.\n",
    "example_selector.select_examples({\"Question\": \"How many Adidas T shirts I have left in my store?\"})"
   ]
  },
  {
   "cell_type": "markdown",
   "id": "a0d2c853",
   "metadata": {},
   "source": [
    "# Few Shot Prompt Template"
   ]
  },
  {
   "cell_type": "code",
   "execution_count": 18,
   "id": "5eff7307",
   "metadata": {},
   "outputs": [
    {
     "name": "stdout",
     "output_type": "stream",
     "text": [
      "Question: How many t-shirts do we have left for Nike in XS size and white color?\n",
      "SQLQuery: SELECT sum(stock_quantity) FROM t_shirts WHERE brand = 'Nike' AND color = 'White' AND size = 'XS'\n",
      "SQLResult: Result of the SQL query\n",
      "Answer: 25\n",
      "\n",
      "Question: How much is the total inventory value for all small size t-shirts?\n",
      "SQLQuery: SELECT SUM(price*stock_quantity) FROM t_shirts WHERE size = 'S'\n",
      "SQLResult: Result of the SQL query\n",
      "Answer: The total value of size 'S' t-shirts in stock is $13,429.\n",
      "\n",
      "Question: How many Adidas T shirts I have left in my store?\n",
      "SQLQuery:\n"
     ]
    }
   ],
   "source": [
    "example_prompt = PromptTemplate(\n",
    "    input_variables=[\"Question\", \"sql\", \"sql_result\", \"answer_output\"],\n",
    "    template=\"\"\"Question: {Question}\n",
    "SQLQuery: {sql}\n",
    "SQLResult: {sql_result}\n",
    "Answer: {answer_output}\"\"\"\n",
    ")\n",
    "\n",
    "few_shot_prompt = FewShotPromptTemplate(\n",
    "    example_selector=example_selector,\n",
    "    example_prompt=example_prompt,\n",
    "    suffix=\"Question: {input}\\nSQLQuery:\",\n",
    "    input_variables=[\"input\"]\n",
    ")\n",
    "\n",
    "final_prompt = few_shot_prompt.format(input=\"How many Adidas T shirts I have left in my store?\")\n",
    "print(final_prompt)\n"
   ]
  },
  {
   "cell_type": "code",
   "execution_count": 19,
   "id": "61b1775c",
   "metadata": {},
   "outputs": [],
   "source": [
    "few_shot_examples_str = few_shot_prompt.format(input=\"{input}\")\n",
    "\n",
    "mysql_instructions = \"\"\"\n",
    "You are a MySQL expert. Given an input question, first create a syntactically correct MySQL query to run,\n",
    "then look at the results of the query and return the answer to the input question.\n",
    "Unless the user specifies a specific number of examples to obtain, query for at most {top_k} results using LIMIT.\n",
    "Never SELECT *; only select needed columns, and wrap column names in backticks (`).\n",
    "Use only columns that exist; pay attention to which column is i n which table.\n",
    "Use CURDATE() for \"today\" queries. Be precise and concise.\n",
    "\"\"\"\n",
    "\n",
    "custom_sql_prompt = PromptTemplate(\n",
    "    input_variables=[\"input\", \"tools\", \"tool_names\", \"agent_scratchpad\"],\n",
    "    template=f\"\"\"\n",
    "{mysql_instructions}\n",
    "\n",
    "# Worked Examples \n",
    "{few_shot_examples_str}\n",
    "\n",
    "You can use the following tools:\n",
    "{{tools}}\n",
    "\n",
    "You may call only these tool names:\n",
    "{{tool_names}}\n",
    "\n",
    "Use this exact format:\n",
    "Question: the input question to answer\n",
    "Thought: think step-by-step about what to do next\n",
    "Action: one of [{{tool_names}}]\n",
    "Action Input: the input for the action\n",
    "Observation: the result of the action\n",
    "... (you can repeat Thought/Action/Action Input/Observation as needed)\n",
    "Thought: I now know the final answer\n",
    "Final Answer: the final answer to the original question\n",
    "\n",
    "Begin!\n",
    "\n",
    "Question: {{input}}\n",
    "{{agent_scratchpad}}\n",
    "\n",
    "Database schema:\n",
    "{db.table_info}\n",
    "\"\"\"\n",
    ")"
   ]
  },
  {
   "cell_type": "markdown",
   "id": "994f70ce",
   "metadata": {},
   "source": [
    "#  Final SQL Agent"
   ]
  },
  {
   "cell_type": "code",
   "execution_count": 20,
   "id": "fd45de40",
   "metadata": {},
   "outputs": [],
   "source": [
    "final_sql_agent = create_sql_agent(\n",
    "    llm=llm,\n",
    "    db=db,\n",
    "    agent_type=AgentType.ZERO_SHOT_REACT_DESCRIPTION,\n",
    "    handle_parsing_errors=True,\n",
    "    prompt=custom_sql_prompt,\n",
    "    agent_executor_kwargs={\"return_intermediate_steps\": True},\n",
    ")"
   ]
  },
  {
   "cell_type": "markdown",
   "id": "ffa70058",
   "metadata": {},
   "source": [
    "### Testing the examples with incorrect LLM outputs (without few-shots)"
   ]
  },
  {
   "cell_type": "code",
   "execution_count": 21,
   "id": "a1b2da15",
   "metadata": {},
   "outputs": [
    {
     "name": "stdout",
     "output_type": "stream",
     "text": [
      "q1 output: 25\n",
      "q4 output: There are 43 white Levi's t-shirts available.\n"
     ]
    }
   ],
   "source": [
    "q1 = final_sql_agent.invoke(\"How many t-shirts do we have left for Nike in extra small size and white color?\") \n",
    "q4 = final_sql_agent.invoke(\"How many white color Levi's t shirts we have available?\")\n",
    "\n",
    "print(f\"q1 output: {q1['output']}\")\n",
    "print(f\"q4 output: {q4['output']}\")"
   ]
  },
  {
   "cell_type": "markdown",
   "id": "64130716",
   "metadata": {},
   "source": [
    "##### The Model now predicted these correctly"
   ]
  },
  {
   "cell_type": "markdown",
   "id": "4cf99116",
   "metadata": {},
   "source": [
    "______"
   ]
  }
 ],
 "metadata": {
  "kernelspec": {
   "display_name": ".venv",
   "language": "python",
   "name": "python3"
  },
  "language_info": {
   "codemirror_mode": {
    "name": "ipython",
    "version": 3
   },
   "file_extension": ".py",
   "mimetype": "text/x-python",
   "name": "python",
   "nbconvert_exporter": "python",
   "pygments_lexer": "ipython3",
   "version": "3.10.0"
  }
 },
 "nbformat": 4,
 "nbformat_minor": 5
}
